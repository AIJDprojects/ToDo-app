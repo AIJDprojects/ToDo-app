{
 "cells": [
  {
   "cell_type": "markdown",
   "id": "871e20da",
   "metadata": {},
   "source": [
    "# Project: AI Model Experimentation"
   ]
  },
  {
   "cell_type": "markdown",
   "id": "c3541a71",
   "metadata": {},
   "source": [
    "This notebook goal is to test differente solutions to the conection between the AI model and the ToDo app in order to receive a description of the information in the entity \"taks\". "
   ]
  },
  {
   "cell_type": "markdown",
   "id": "75dc9515",
   "metadata": {},
   "source": [
    "## 1. Using llama_index to connect the LLM to the data base"
   ]
  },
  {
   "cell_type": "code",
   "execution_count": 67,
   "id": "213667a4",
   "metadata": {},
   "outputs": [],
   "source": [
    "# Import necessary libraries\n",
    "import os\n",
    "from dotenv import load_dotenv\n",
    "from sqlalchemy import create_engine, MetaData, Table\n",
    "from llama_index.core import SQLDatabase, VectorStoreIndex\n",
    "from llama_index.core.query_engine import NLSQLTableQueryEngine\n",
    "\n",
    "from llama_index.core.llms import CustomLLM, LLMMetadata\n",
    "from llama_index.core.base.llms.types import CompletionResponse\n",
    "import requests\n",
    "from typing import Any, Iterator, Optional"
   ]
  },
  {
   "cell_type": "code",
   "execution_count": 68,
   "id": "5f975460",
   "metadata": {},
   "outputs": [
    {
     "data": {
      "text/plain": [
       "True"
      ]
     },
     "execution_count": 68,
     "metadata": {},
     "output_type": "execute_result"
    }
   ],
   "source": [
    "# Load environment variables\n",
    "load_dotenv()"
   ]
  },
  {
   "cell_type": "code",
   "execution_count": 5,
   "id": "e1412bc4",
   "metadata": {},
   "outputs": [
    {
     "name": "stdout",
     "output_type": "stream",
     "text": [
      "¡Hola! ¿En qué puedo ayudarte hoy?\n"
     ]
    }
   ],
   "source": [
    "# Contection test to CodeGPT API as the documentation suggests\n",
    "\n",
    "api_key = os.getenv(\"OPENAI_API_KEY\")\n",
    "api_base = os.getenv(\"CODEGPT_API_BASE\")\n",
    "agent_id = os.getenv(\"AGENT_ID\")\n",
    "organization_id = os.getenv(\"ORGANIZATION_ID\")\n",
    "\n",
    "\n",
    "payload = {\n",
    "    \"agentId\": f\"{agent_id}\",\n",
    "    \"messages\": [{\"content\":\"hola\",\n",
    "                  \"role\": \"user\"}]\n",
    "}\n",
    "headers = {\n",
    "    \"accept\": \"application/json\",\n",
    "    \"CodeGPT-Org-Id\": f\"{organization_id}\",\n",
    "    \"content-type\": \"application/json\",\n",
    "    \"authorization\": f\"Bearer {api_key}\"\n",
    "}\n",
    "\n",
    "response = requests.post(f\"{api_base}\", json=payload, headers=headers)\n",
    "\n",
    "print(response.text)"
   ]
  },
  {
   "cell_type": "code",
   "execution_count": 6,
   "id": "87cb1f60",
   "metadata": {},
   "outputs": [],
   "source": [
    "# Initialize llm connection\n",
    "class CodeGPTLLM(CustomLLM):\n",
    "    api_key: Optional[str] = None\n",
    "    api_base: Optional[str] = None\n",
    "    agent_id: Optional[str] = None\n",
    "    organization_id: Optional[str] = None\n",
    "\n",
    "    def __init__(self):                \n",
    "        api_key = os.getenv(\"OPENAI_API_KEY\")\n",
    "        api_base = os.getenv(\"CODEGPT_API_BASE\")\n",
    "        agent_id = os.getenv(\"AGENT_ID\")\n",
    "        organization_id = os.getenv(\"ORGANIZATION_ID\")\n",
    "        super().__init__(\n",
    "            api_key=api_key,\n",
    "            api_base=api_base,\n",
    "            agent_id=agent_id,\n",
    "            organization_id=organization_id)\n",
    "        \n",
    "        \n",
    "    @property\n",
    "    def metadata(self) -> LLMMetadata:\n",
    "        return LLMMetadata(\n",
    "            context_window=4096,\n",
    "            num_output=256,\n",
    "            model_name=\"codegpt-custom\",\n",
    "            is_chat_model=True,  # Set to True if your model supports chat format\n",
    "            is_function_calling_model=False\n",
    "        )   \n",
    "\n",
    "    def complete(self, prompt: str, **kwargs:Any) -> CompletionResponse:\n",
    "        try: \n",
    "            payload = {\n",
    "                \"agentId\": f\"{self.agent_id}\",                      \n",
    "                \"messages\": [{\n",
    "                        \"content\":  f\"{prompt}\" ,\n",
    "                        \"role\": \"user\"\n",
    "                        }]\n",
    "                }\n",
    "            \n",
    "            headers = {\n",
    "                \"accept\": \"application/json\",\n",
    "                \"CodeGPT-Org-Id\": f\"{self.organization_id}\",\n",
    "                \"content-type\": \"application/json\",\n",
    "                \"authorization\": f\"Bearer {self.api_key}\"\n",
    "            }\n",
    "\n",
    "\n",
    "            response = requests.post(\n",
    "                f\"{self.api_base}\",\n",
    "                json=payload,\n",
    "                headers=headers\n",
    "            )\n",
    "            \n",
    "            return CompletionResponse(text=response.text)\n",
    "        except Exception as e:\n",
    "            print(f\"Error in CodeGPTLLM call: {e}\")\n",
    "            return CompletionResponse(text=\"Error in generating response\")\n",
    "        \n",
    "    def stream_complete(self, prompt: str, **kwargs: Any) -> Iterator[CompletionResponse]:\n",
    "        # For non-streaming implementation, just yield the complete response\n",
    "        response = self.complete(prompt, **kwargs)\n",
    "        yield response    \n"
   ]
  },
  {
   "cell_type": "code",
   "execution_count": 69,
   "id": "297bb95b",
   "metadata": {},
   "outputs": [],
   "source": [
    "llm = CodeGPTLLM()"
   ]
  },
  {
   "cell_type": "code",
   "execution_count": 8,
   "id": "05eeb787",
   "metadata": {},
   "outputs": [
    {
     "name": "stdout",
     "output_type": "stream",
     "text": [
      "The capital of France is Paris.\n"
     ]
    }
   ],
   "source": [
    "call = llm.complete(\"What is the capital of France?\")\n",
    "print(call.text)"
   ]
  },
  {
   "cell_type": "code",
   "execution_count": 71,
   "id": "cb4e1100",
   "metadata": {},
   "outputs": [
    {
     "name": "stdout",
     "output_type": "stream",
     "text": [
      "Connecting to database at: ../database/todo.db\n"
     ]
    }
   ],
   "source": [
    "# set up database connection\n",
    "db_path = os.path.join(\"..\", \"database\", \"todo.db\")\n",
    "print(f\"Connecting to database at: {db_path}\")\n",
    "engine = create_engine(f\"sqlite:///{db_path}\")\n",
    "metadata = MetaData()\n",
    "metadata.reflect(bind=engine)"
   ]
  },
  {
   "cell_type": "code",
   "execution_count": 72,
   "id": "4aab60b7",
   "metadata": {},
   "outputs": [
    {
     "name": "stdout",
     "output_type": "stream",
     "text": [
      "['id', 'task', 'description', 'creation_time', 'end_time', 'finished']\n"
     ]
    }
   ],
   "source": [
    "# get the information about the table \"tasks\"\n",
    "tasks_table = Table(\"tasks\", metadata, autoload_with=engine)\n",
    "print(tasks_table.columns.keys())"
   ]
  },
  {
   "cell_type": "code",
   "execution_count": 73,
   "id": "beb95f23",
   "metadata": {},
   "outputs": [],
   "source": [
    "# Configurar SQLDatabase para LlamaIndex\n",
    "sql_database = SQLDatabase(engine, include_tables=[\"tasks\"])"
   ]
  },
  {
   "cell_type": "code",
   "execution_count": 16,
   "id": "70c36bd5",
   "metadata": {},
   "outputs": [],
   "source": [
    "# create a Query Engine\n",
    "query_engine = NLSQLTableQueryEngine(\n",
    "    sql_database=sql_database,\n",
    "    tables=[\"tasks\"],\n",
    "    llm=llm,\n",
    "    synthesize_response=True\n",
    ")"
   ]
  },
  {
   "cell_type": "code",
   "execution_count": 17,
   "id": "ca3bb948",
   "metadata": {},
   "outputs": [],
   "source": [
    "# create the funtion to query the database\n",
    "def query_tasks(question: str) -> str:\n",
    "\n",
    "    response = query_engine.query(question)\n",
    "    return str(response)"
   ]
  },
  {
   "cell_type": "code",
   "execution_count": 30,
   "id": "510bd395",
   "metadata": {},
   "outputs": [],
   "source": [
    "questions = [\n",
    "        \"summarize the tasks\",\n",
    "        \"give me a motivational phrase to do tasks\",\n",
    "        \"give me a list of tasks, including the task name, description, creation time, end time and status\"\n",
    "    ]"
   ]
  },
  {
   "cell_type": "code",
   "execution_count": 32,
   "id": "cac74a5a",
   "metadata": {},
   "outputs": [
    {
     "name": "stdout",
     "output_type": "stream",
     "text": [
      "Pregunta: summarize the tasks\n",
      "Respuesta: You have 4 tasks in total, 2 complete (50%). 2 still pending. Focus on the remaining tasks.\n",
      "\n",
      "Pregunta: give me a motivational phrase to do tasks\n",
      "Respuesta: \"You have 2 tasks completed. Keep up the good work! 'The future depends on what you do today.' - Mahatma Gandhi\"\n",
      "\n",
      "Pregunta: give me a list of tasks, including the task name, description, creation time, end time and status\n",
      "Respuesta: Here is the list of tasks:\n",
      "\n",
      "1. Task: Complete project documentation\n",
      "   - Description: Write comprehensive documentation for the ToDo API\n",
      "   - Creation Time: 2025-07-06 12:39:35\n",
      "   - End Time: None\n",
      "   - Status: Pending\n",
      "\n",
      "2. Task: Buy milk and eggs\n",
      "   - Description: I need 3 liters\n",
      "   - Creation Time: 2025-07-06 12:41:34\n",
      "   - End Time: 2025-07-06 11:19:19\n",
      "   - Status: Completed\n",
      "\n",
      "3. Task: Dummy task to delete\n",
      "   - Description: Please work\n",
      "   - Creation Time: 2025-07-06 13:45:59\n",
      "   - End Time: None\n",
      "   - Status: Pending\n",
      "\n",
      "4. Task: Finish backend\n",
      "   - Description: AI router\n",
      "   - Creation Time: 2025-07-06 19:57:54\n",
      "   - End Time: 2025-07-06 14:58:21\n",
      "   - Status: Completed\n",
      "\n",
      "Summary: You have 4 tasks in total, 2 complete (50%). 2 still pending. Focus on the remaining tasks.\n",
      "\n"
     ]
    }
   ],
   "source": [
    "for q in questions:\n",
    "        print(f\"Pregunta: {q}\")\n",
    "        respuesta = query_tasks(q)\n",
    "        print(f\"Respuesta: {respuesta}\\n\")"
   ]
  },
  {
   "cell_type": "markdown",
   "id": "d0f49751",
   "metadata": {},
   "source": [
    "## 2 - Create a promt with the DB information from a query it self"
   ]
  },
  {
   "cell_type": "code",
   "execution_count": 61,
   "id": "c03b8458",
   "metadata": {},
   "outputs": [],
   "source": [
    "api_key = os.getenv(\"OPENAI_API_KEY\")\n",
    "api_base = os.getenv(\"CODEGPT_API_BASE\")\n",
    "agent_id = os.getenv(\"AGENT_ID\")\n",
    "organization_id = os.getenv(\"ORGANIZATION_ID\")\n",
    "\n",
    "def call_codegpt_api(promt: str) -> str:\n",
    "    payload = {\n",
    "        \"agentId\": f\"{agent_id}\",\n",
    "        \"messages\": [{\"content\":f\"{promt}\",\n",
    "                    \"role\": \"user\"}]\n",
    "    }\n",
    "    headers = {\n",
    "        \"accept\": \"application/json\",\n",
    "        \"CodeGPT-Org-Id\": f\"{organization_id}\",\n",
    "        \"content-type\": \"application/json\",\n",
    "        \"authorization\": f\"Bearer {api_key}\"\n",
    "    }\n",
    "\n",
    "    response = requests.post(f\"{api_base}\", json=payload, headers=headers)\n",
    "\n",
    "    return response.text"
   ]
  },
  {
   "cell_type": "code",
   "execution_count": 62,
   "id": "30946826",
   "metadata": {},
   "outputs": [
    {
     "name": "stdout",
     "output_type": "stream",
     "text": [
      "[[1, 'Complete project documentation', 'Write comprehensive documentation for the ToDo API', '2025-07-06 12:39:35', None, 'N'], [2, 'buy milk and eggs', 'I need 3 litters', '2025-07-06 12:41:34', '2025-07-06 11:19:19', 'Y'], [5, 'dumy task to delete', 'please work', '2025-07-06 13:45:59', None, 'N'], [8, 'finish backend', 'AI router', '2025-07-06 19:57:54', None, 'N']]\n"
     ]
    }
   ],
   "source": [
    "GETALL_API = \"http://127.0.0.1:8070/crud/getall\"\n",
    "\n",
    "response = requests.get(GETALL_API)\n",
    "if response.status_code == 200:\n",
    "    data = response.json()\n",
    "    print(data)\n",
    "else:\n",
    "    print(\"Failed to retrieve data from the API\")\n",
    " "
   ]
  },
  {
   "cell_type": "code",
   "execution_count": 63,
   "id": "d46e8af2",
   "metadata": {},
   "outputs": [],
   "source": [
    "prompt = f\"Give a sumary of the the next tasks: {data}, add a motivational phrase to do tasks\""
   ]
  },
  {
   "cell_type": "code",
   "execution_count": 64,
   "id": "87c1ab95",
   "metadata": {},
   "outputs": [
    {
     "name": "stdout",
     "output_type": "stream",
     "text": [
      "You have 4 tasks in total, 1 complete (25%). 3 still pending. \"The future depends on what you do today.\" - Mahatma Gandhi\n"
     ]
    }
   ],
   "source": [
    "response = call_codegpt_api(prompt)\n",
    "print(response)"
   ]
  },
  {
   "cell_type": "code",
   "execution_count": 65,
   "id": "a16f1a4b",
   "metadata": {},
   "outputs": [],
   "source": [
    "prompt = f\"Give a list of the the next tasks: {data}, I want to know task name, description, creation time, endtime if finished and status.\""
   ]
  },
  {
   "cell_type": "code",
   "execution_count": 66,
   "id": "32e7e0ee",
   "metadata": {},
   "outputs": [
    {
     "name": "stdout",
     "output_type": "stream",
     "text": [
      "Here is the list of your tasks:\n",
      "\n",
      "1. **Task Name:** Complete project documentation\n",
      "   - **Description:** Write comprehensive documentation for the ToDo API\n",
      "   - **Creation Time:** 2025-07-06 12:39:35\n",
      "   - **End Time:** None\n",
      "   - **Status:** Not Finished\n",
      "\n",
      "2. **Task Name:** buy milk and eggs\n",
      "   - **Description:** I need 3 litters\n",
      "   - **Creation Time:** 2025-07-06 12:41:34\n",
      "   - **End Time:** 2025-07-06 11:19:19\n",
      "   - **Status:** Finished\n",
      "\n",
      "3. **Task Name:** dumy task to delete\n",
      "   - **Description:** please work\n",
      "   - **Creation Time:** 2025-07-06 13:45:59\n",
      "   - **End Time:** None\n",
      "   - **Status:** Not Finished\n",
      "\n",
      "4. **Task Name:** finish backend\n",
      "   - **Description:** AI router\n",
      "   - **Creation Time:** 2025-07-06 19:57:54\n",
      "   - **End Time:** None\n",
      "   - **Status:** Not Finished\n"
     ]
    }
   ],
   "source": [
    "response = call_codegpt_api(prompt)\n",
    "print(response)"
   ]
  }
 ],
 "metadata": {
  "kernelspec": {
   "display_name": "todolist-py3.10",
   "language": "python",
   "name": "python3"
  },
  "language_info": {
   "codemirror_mode": {
    "name": "ipython",
    "version": 3
   },
   "file_extension": ".py",
   "mimetype": "text/x-python",
   "name": "python",
   "nbconvert_exporter": "python",
   "pygments_lexer": "ipython3",
   "version": "3.10.11"
  }
 },
 "nbformat": 4,
 "nbformat_minor": 5
}
