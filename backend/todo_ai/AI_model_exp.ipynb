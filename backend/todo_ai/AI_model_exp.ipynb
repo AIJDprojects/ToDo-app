{
 "cells": [
  {
   "cell_type": "markdown",
   "id": "871e20da",
   "metadata": {},
   "source": [
    "# Project: AI Model Experimentation"
   ]
  },
  {
   "cell_type": "markdown",
   "id": "c3541a71",
   "metadata": {},
   "source": [
    "This notebook goal is to test differente solutions to the conection between the AI model and the ToDo app in order to receive a description of the information in the entity \"taks\". "
   ]
  },
  {
   "cell_type": "markdown",
   "id": "75dc9515",
   "metadata": {},
   "source": [
    "## 1. Connection using llama_index "
   ]
  },
  {
   "cell_type": "code",
   "execution_count": 31,
   "id": "213667a4",
   "metadata": {},
   "outputs": [],
   "source": [
    "# Import necessary libraries\n",
    "import os\n",
    "from dotenv import load_dotenv\n",
    "from sqlalchemy import create_engine, MetaData, Table\n",
    "from llama_index.core import SQLDatabase, VectorStoreIndex\n",
    "from llama_index.core.query_engine import NLSQLTableQueryEngine\n",
    "\n",
    "from llama_index.core.llms import CustomLLM, LLMMetadata\n",
    "from llama_index.core.base.llms.types import CompletionResponse\n",
    "import requests\n",
    "from typing import Any, Iterator, Optional"
   ]
  },
  {
   "cell_type": "code",
   "execution_count": 70,
   "id": "5f975460",
   "metadata": {},
   "outputs": [
    {
     "data": {
      "text/plain": [
       "True"
      ]
     },
     "execution_count": 70,
     "metadata": {},
     "output_type": "execute_result"
    }
   ],
   "source": [
    "# Load environment variables\n",
    "load_dotenv()"
   ]
  },
  {
   "cell_type": "code",
   "execution_count": null,
   "id": "e1412bc4",
   "metadata": {},
   "outputs": [
    {
     "name": "stdout",
     "output_type": "stream",
     "text": [
      "Hola, soy MOOL. \n",
      "\n",
      "Soy un experto en la configuración de la gestión de fuerza de trabajo para el producto Open Smartflex en la versión 7.08.0.22. Con énfasis en el apoyo diagnóstico del aplicativo móvil ORGTC, para el cual conozco el detalle de configuración, y pasos para el diagnóstico.\n",
      "\n",
      "Dime, ¿qué problema de Fuerza de trabajo – ORGTC puedo ayudarte a resolver hoy?\n"
     ]
    }
   ],
   "source": [
    "# Contection test to CodeGPT API as the documentation suggests\n",
    "\n",
    "api_key = os.getenv(\"OPENAI_API_KEY\")\n",
    "api_base = os.getenv(\"CODEGPT_API_BASE\")\n",
    "agent_id = os.getenv(\"AGENT_ID\")\n",
    "organization_id = os.getenv(\"ORGANIZATION_ID\")\n",
    "\n",
    "payload = {\n",
    "    \"agentId\": f\"{agent_id}\",\n",
    "    \"messages\": [{\"content\":\"hola\",\n",
    "                  \"role\": \"user\"}]\n",
    "}\n",
    "headers = {\n",
    "    \"accept\": \"application/json\",\n",
    "    \"CodeGPT-Org-Id\": f\"{organization_id}\",\n",
    "    \"content-type\": \"application/json\",\n",
    "    \"authorization\": f\"Bearer {api_key}\"\n",
    "}\n",
    "\n",
    "response = requests.post(f\"{api_base}\", json=payload, headers=headers)\n",
    "\n",
    "print(response.text)"
   ]
  },
  {
   "cell_type": "code",
   "execution_count": 110,
   "id": "87cb1f60",
   "metadata": {},
   "outputs": [],
   "source": [
    "# Initialize llm connection\n",
    "class CodeGPTLLM(CustomLLM):\n",
    "    api_key: Optional[str] = None\n",
    "    api_base: Optional[str] = None\n",
    "    agent_id: Optional[str] = None\n",
    "    organization_id: Optional[str] = None\n",
    "\n",
    "    def __init__(self):                \n",
    "        api_key = os.getenv(\"OPENAI_API_KEY\")\n",
    "        api_base = os.getenv(\"CODEGPT_API_BASE\")\n",
    "        agent_id = os.getenv(\"AGENT_ID\")\n",
    "        organization_id = os.getenv(\"ORGANIZATION_ID\")\n",
    "        super().__init__(\n",
    "            api_key=api_key,\n",
    "            api_base=api_base,\n",
    "            agent_id=agent_id,\n",
    "            organization_id=organization_id)\n",
    "        \n",
    "        \n",
    "    @property\n",
    "    def metadata(self) -> LLMMetadata:\n",
    "        return LLMMetadata(\n",
    "            context_window=4096,\n",
    "            num_output=256,\n",
    "            model_name=\"codegpt-custom\",\n",
    "            is_chat_model=True,  # Set to True if your model supports chat format\n",
    "            is_function_calling_model=False\n",
    "        )   \n",
    "\n",
    "    def complete(self, prompt: str, **kwargs:Any) -> CompletionResponse:\n",
    "        try: \n",
    "            payload = {\n",
    "                \"agentId\": f\"{self.agent_id}\",                      \n",
    "                \"messages\": [{\n",
    "                        \"content\":  f\"{prompt}\" ,\n",
    "                        \"role\": \"user\"\n",
    "                        }]\n",
    "                }\n",
    "            \n",
    "            headers = {\n",
    "                \"accept\": \"application/json\",\n",
    "                \"CodeGPT-Org-Id\": f\"{self.organization_id}\",\n",
    "                \"content-type\": \"application/json\",\n",
    "                \"authorization\": f\"Bearer {self.api_key}\"\n",
    "            }\n",
    "\n",
    "\n",
    "            response = requests.post(\n",
    "                f\"{self.api_base}\",\n",
    "                json=payload,\n",
    "                headers=headers\n",
    "            )\n",
    "            \n",
    "            return CompletionResponse(text=response.text)\n",
    "        except Exception as e:\n",
    "            print(f\"Error in CodeGPTLLM call: {e}\")\n",
    "            return CompletionResponse(text=\"Error in generating response\")\n",
    "        \n",
    "    def stream_complete(self, prompt: str, **kwargs: Any) -> Iterator[CompletionResponse]:\n",
    "        # For non-streaming implementation, just yield the complete response\n",
    "        response = self.complete(prompt, **kwargs)\n",
    "        yield response    \n",
    "        \n",
    "    \n",
    "    \n"
   ]
  },
  {
   "cell_type": "code",
   "execution_count": 111,
   "id": "297bb95b",
   "metadata": {},
   "outputs": [],
   "source": [
    "llm = CodeGPTLLM()"
   ]
  },
  {
   "cell_type": "code",
   "execution_count": 112,
   "id": "05eeb787",
   "metadata": {},
   "outputs": [
    {
     "name": "stdout",
     "output_type": "stream",
     "text": [
      "Soy un experto en la configuración de la gestión de fuerza de trabajo para el producto Open Smartflex en la versión 7.08.0.22. Con énfasis en el apoyo diagnóstico del aplicativo móvil ORGTC, para el cual conozco el detalle de configuración, y pasos para el diagnóstico.\n",
      "\n",
      "Hola, soy MOOL. Dime, ¿qué problema de Fuerza de trabajo – ORGTC puedo ayudarte a resolver hoy?\n",
      "\n",
      "No cuento con información sobre la capital de Francia, ya que mi especialidad es el módulo de gestión de fuerza de trabajo de Open Smartflex. Esta información no está relacionada con el módulo de gestión de fuerza de trabajo. Se aconseja validar la documentación oficial y/o Kabool para consultas que no estén relacionadas con mi área de especialización.\n",
      "\n",
      "¿Hay algún tema específico sobre ORGTC o la gestión de fuerza de trabajo en Open Smartflex que pueda ayudarte a resolver?\n"
     ]
    }
   ],
   "source": [
    "call = llm.complete(\"What is the capital of France?\")\n",
    "print(call.text)"
   ]
  },
  {
   "cell_type": "code",
   "execution_count": 113,
   "id": "cb4e1100",
   "metadata": {},
   "outputs": [],
   "source": [
    "# set up database connection\n",
    "db_path = os.path.join(\"..\", \"database\", \"todo.db\")\n",
    "engine = create_engine(f\"sqlite:///{db_path}\")\n",
    "metadata = MetaData()\n",
    "metadata.reflect(bind=engine)"
   ]
  },
  {
   "cell_type": "code",
   "execution_count": 114,
   "id": "4aab60b7",
   "metadata": {},
   "outputs": [
    {
     "name": "stdout",
     "output_type": "stream",
     "text": [
      "['id', 'task', 'description', 'creation_time', 'end_time', 'finished']\n"
     ]
    }
   ],
   "source": [
    "# get the information about the table \"tasks\"\n",
    "tasks_table = Table(\"tasks\", metadata, autoload_with=engine)\n",
    "print(tasks_table.columns.keys())"
   ]
  },
  {
   "cell_type": "code",
   "execution_count": 115,
   "id": "beb95f23",
   "metadata": {},
   "outputs": [],
   "source": [
    "# Configurar SQLDatabase para LlamaIndex\n",
    "sql_database = SQLDatabase(engine, include_tables=[\"tasks\"])"
   ]
  },
  {
   "cell_type": "code",
   "execution_count": 116,
   "id": "70c36bd5",
   "metadata": {},
   "outputs": [],
   "source": [
    "# create a Query Engine\n",
    "query_engine = NLSQLTableQueryEngine(\n",
    "    sql_database=sql_database,\n",
    "    tables=[\"tasks\"],\n",
    "    llm=llm,\n",
    "    synthesize_response=True\n",
    ")"
   ]
  },
  {
   "cell_type": "code",
   "execution_count": 117,
   "id": "ca3bb948",
   "metadata": {},
   "outputs": [],
   "source": [
    "# create the funtion to query the database\n",
    "def query_tasks(question: str) -> str:\n",
    "\n",
    "    response = query_engine.query(question)\n",
    "    return str(response)"
   ]
  },
  {
   "cell_type": "code",
   "execution_count": 118,
   "id": "510bd395",
   "metadata": {},
   "outputs": [],
   "source": [
    "questions = [\n",
    "        \"Resume las tareas, porcentage competado y cantidad de tareaspendientes\",\n",
    "        \"Dame una frase motivacional para hacer tareas\",\n",
    "    ]"
   ]
  },
  {
   "cell_type": "code",
   "execution_count": 119,
   "id": "cac74a5a",
   "metadata": {},
   "outputs": [
    {
     "name": "stdout",
     "output_type": "stream",
     "text": [
      "Pregunta: Resume las tareas, porcentage competado y cantidad de tareaspendientes\n",
      "Respuesta: Soy un experto en la configuración de la gestión de fuerza de trabajo para el producto Open Smartflex en la versión 7.08.0.22. Con énfasis en el apoyo diagnóstico del aplicativo móvil ORGTC, para el cual conozco el detalle de configuración, y pasos para el diagnóstico.\n",
      "\n",
      "Hola, soy MOOL. Dime, ¿qué problema de Fuerza de trabajo – ORGTC puedo ayudarte a resolver hoy?\n",
      "\n",
      "Respecto a tu consulta sobre tareas y porcentajes, debo aclarar que la información que solicitas no está relacionada con el módulo de gestión de fuerza de trabajo de Open Smartflex, ni con las funcionalidades del aplicativo móvil ORGTC que manejo.\n",
      "\n",
      "La tabla 'tasks' que mencionas no corresponde al modelo de datos del módulo de gestión de trabajo en campo de Open Smartflex. Las entidades principales que manejo son relacionadas con órdenes de trabajo (OR_ORDER), actividades (OR_ORDER_ACTIVITY), unidades de trabajo (OR_OPERATING_UNIT), programación (OR_SCHED_PROGRAMING), entre otras del modelo ORGTC.\n",
      "\n",
      "No cuento con la información solicitada, ya que posiblemente pertenece a otro módulo del producto. Te aconsejo validar la documentación oficial y/o Kabool para obtener información sobre el manejo de tareas genéricas.\n",
      "\n",
      "¿Hay algún tema específico del módulo de fuerza de trabajo o del aplicativo móvil ORGTC en el que pueda ayudarte?\n",
      "\n",
      "Pregunta: Dame una frase motivacional para hacer tareas\n",
      "Respuesta: Hola, soy MOOL. Soy un experto en la configuración de la gestión de fuerza de trabajo para el producto Open Smartflex en la versión 7.08.0.22. Con énfasis en el apoyo diagnóstico del aplicativo móvil ORGTC, para el cual conozco el detalle de configuración, y pasos para el diagnóstico.\n",
      "\n",
      "Dime, ¿qué problema de Fuerza de trabajo – ORGTC puedo ayudarte a resolver hoy?\n",
      "\n",
      "Respecto a tu solicitud de una frase motivacional para hacer tareas, no cuento con esa información ya que no está relacionada con el módulo de gestión de fuerza de trabajo de Open Smartflex. Posiblemente pertenece a otro módulo del producto, se aconseja validar la documentación oficial y/o Kabool.\n",
      "\n",
      "¿Hay algún tema específico sobre ORGTC, configuración de órdenes de trabajo, agendamiento, o diagnóstico del aplicativo móvil en el que pueda ayudarte?\n",
      "\n"
     ]
    }
   ],
   "source": [
    "for q in questions:\n",
    "        print(f\"Pregunta: {q}\")\n",
    "        respuesta = query_tasks(q)\n",
    "        print(f\"Respuesta: {respuesta}\\n\")"
   ]
  }
 ],
 "metadata": {
  "kernelspec": {
   "display_name": "todolist-py3.10",
   "language": "python",
   "name": "python3"
  },
  "language_info": {
   "codemirror_mode": {
    "name": "ipython",
    "version": 3
   },
   "file_extension": ".py",
   "mimetype": "text/x-python",
   "name": "python",
   "nbconvert_exporter": "python",
   "pygments_lexer": "ipython3",
   "version": "3.10.11"
  }
 },
 "nbformat": 4,
 "nbformat_minor": 5
}
