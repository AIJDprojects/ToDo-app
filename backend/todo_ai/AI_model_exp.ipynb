{
 "cells": [
  {
   "cell_type": "markdown",
   "id": "871e20da",
   "metadata": {},
   "source": [
    "# Project: AI Model Experimentation"
   ]
  },
  {
   "cell_type": "markdown",
   "id": "c3541a71",
   "metadata": {},
   "source": [
    "This notebook goal is to test differente solutions to the conection between the AI model and the ToDo app in order to receive a description of the information in the entity \"taks\". "
   ]
  },
  {
   "cell_type": "markdown",
   "id": "75dc9515",
   "metadata": {},
   "source": [
    "## 1. Connection using llama_index "
   ]
  },
  {
   "cell_type": "code",
   "execution_count": 2,
   "id": "213667a4",
   "metadata": {},
   "outputs": [],
   "source": [
    "# Import necessary libraries\n",
    "import os\n",
    "from dotenv import load_dotenv\n",
    "from sqlalchemy import create_engine, MetaData, Table\n",
    "from llama_index.core import SQLDatabase, VectorStoreIndex\n",
    "from llama_index.core.query_engine import NLSQLTableQueryEngine\n",
    "from llama_index.llms.openai import OpenAI"
   ]
  },
  {
   "cell_type": "code",
   "execution_count": 3,
   "id": "5f975460",
   "metadata": {},
   "outputs": [
    {
     "data": {
      "text/plain": [
       "True"
      ]
     },
     "execution_count": 3,
     "metadata": {},
     "output_type": "execute_result"
    }
   ],
   "source": [
    "# Load environment variables\n",
    "load_dotenv()"
   ]
  },
  {
   "cell_type": "code",
   "execution_count": 4,
   "id": "87cb1f60",
   "metadata": {},
   "outputs": [],
   "source": [
    "# Initialize llm connection\n",
    "llm = OpenAI(\n",
    "    model=\"gpt-4\",\n",
    "    api_key=os.getenv(\"OPENAI_API_KEY\")\n",
    ")"
   ]
  },
  {
   "cell_type": "code",
   "execution_count": 9,
   "id": "cb4e1100",
   "metadata": {},
   "outputs": [],
   "source": [
    "# set up database connection\n",
    "db_path = os.path.join(\"..\", \"database\", \"todo.db\")\n",
    "engine = create_engine(f\"sqlite:///{db_path}\")\n",
    "metadata = MetaData()\n",
    "metadata.reflect(bind=engine)"
   ]
  },
  {
   "cell_type": "code",
   "execution_count": 10,
   "id": "4aab60b7",
   "metadata": {},
   "outputs": [
    {
     "name": "stdout",
     "output_type": "stream",
     "text": [
      "['id', 'task', 'description', 'creation_time', 'end_time', 'finished']\n"
     ]
    }
   ],
   "source": [
    "# get the information about the table \"tasks\"\n",
    "tasks_table = Table(\"tasks\", metadata, autoload_with=engine)\n",
    "print(tasks_table.columns.keys())"
   ]
  }
 ],
 "metadata": {
  "kernelspec": {
   "display_name": "todolist-py3.10",
   "language": "python",
   "name": "python3"
  },
  "language_info": {
   "codemirror_mode": {
    "name": "ipython",
    "version": 3
   },
   "file_extension": ".py",
   "mimetype": "text/x-python",
   "name": "python",
   "nbconvert_exporter": "python",
   "pygments_lexer": "ipython3",
   "version": "3.10.11"
  }
 },
 "nbformat": 4,
 "nbformat_minor": 5
}
